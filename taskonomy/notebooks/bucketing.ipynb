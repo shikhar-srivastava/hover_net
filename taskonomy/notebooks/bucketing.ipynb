{
 "cells": [
  {
   "cell_type": "code",
   "execution_count": 1,
   "metadata": {},
   "outputs": [
    {
     "ename": "KeyboardInterrupt",
     "evalue": "",
     "output_type": "error",
     "traceback": [
      "\u001b[0;31m---------------------------------------------------------------------------\u001b[0m",
      "\u001b[0;31mKeyboardInterrupt\u001b[0m                         Traceback (most recent call last)",
      "\u001b[0;32m<ipython-input-1-3220a4501677>\u001b[0m in \u001b[0;36m<module>\u001b[0;34m()\u001b[0m\n\u001b[1;32m      4\u001b[0m \u001b[0;34m\u001b[0m\u001b[0m\n\u001b[1;32m      5\u001b[0m \u001b[0mwrite_dir\u001b[0m \u001b[0;34m=\u001b[0m \u001b[0;34m'/l/users/shikhar.srivastava/data/pannuke/top9/'\u001b[0m\u001b[0;34m\u001b[0m\u001b[0;34m\u001b[0m\u001b[0m\n\u001b[0;32m----> 6\u001b[0;31m \u001b[0mbucketing\u001b[0m\u001b[0;34m(\u001b[0m\u001b[0mwrite_dir\u001b[0m\u001b[0;34m,\u001b[0m \u001b[0mbucketing_threshold\u001b[0m \u001b[0;34m=\u001b[0m \u001b[0;36m224\u001b[0m\u001b[0;34m,\u001b[0m \u001b[0msplit_viz_path\u001b[0m \u001b[0;34m=\u001b[0m \u001b[0;34m'/l/users/shikhar.srivastava/workspace/hover_net/taskonomy/viz/data_split_viz/top9/'\u001b[0m\u001b[0;34m)\u001b[0m\u001b[0;34m\u001b[0m\u001b[0;34m\u001b[0m\u001b[0m\n\u001b[0m",
      "\u001b[0;32m/l/users/shikhar.srivastava/workspace/hover_net/taskonomy/preprocess/data_transformation.py\u001b[0m in \u001b[0;36mbucketing\u001b[0;34m(write_dir, input_dir, training_splits, training_split_ratios, bucketing_threshold, split_viz_path)\u001b[0m\n\u001b[1;32m     20\u001b[0m         \u001b[0mos\u001b[0m\u001b[0;34m.\u001b[0m\u001b[0mmakedirs\u001b[0m\u001b[0;34m(\u001b[0m\u001b[0msplit_viz_path\u001b[0m\u001b[0;34m)\u001b[0m\u001b[0;34m\u001b[0m\u001b[0;34m\u001b[0m\u001b[0m\n\u001b[1;32m     21\u001b[0m \u001b[0;34m\u001b[0m\u001b[0m\n\u001b[0;32m---> 22\u001b[0;31m     \u001b[0mimg\u001b[0m \u001b[0;34m=\u001b[0m \u001b[0mload_numpy_file\u001b[0m\u001b[0;34m(\u001b[0m\u001b[0minput_dir\u001b[0m \u001b[0;34m+\u001b[0m \u001b[0;34m'images.npy'\u001b[0m\u001b[0;34m)\u001b[0m\u001b[0;34m\u001b[0m\u001b[0;34m\u001b[0m\u001b[0m\n\u001b[0m\u001b[1;32m     23\u001b[0m     \u001b[0mtypes\u001b[0m \u001b[0;34m=\u001b[0m \u001b[0mload_numpy_file\u001b[0m\u001b[0;34m(\u001b[0m\u001b[0minput_dir\u001b[0m \u001b[0;34m+\u001b[0m \u001b[0;34m'types.npy'\u001b[0m\u001b[0;34m)\u001b[0m\u001b[0;34m\u001b[0m\u001b[0;34m\u001b[0m\u001b[0m\n\u001b[1;32m     24\u001b[0m     \u001b[0mmasks\u001b[0m \u001b[0;34m=\u001b[0m \u001b[0mload_numpy_file\u001b[0m\u001b[0;34m(\u001b[0m\u001b[0minput_dir\u001b[0m \u001b[0;34m+\u001b[0m \u001b[0;34m'masks.npy'\u001b[0m\u001b[0;34m)\u001b[0m\u001b[0;34m\u001b[0m\u001b[0;34m\u001b[0m\u001b[0m\n",
      "\u001b[0;32m/l/users/shikhar.srivastava/workspace/hover_net/taskonomy/utils/data_utils.py\u001b[0m in \u001b[0;36mload_numpy_file\u001b[0;34m(path)\u001b[0m\n\u001b[1;32m      6\u001b[0m \u001b[0;32mdef\u001b[0m \u001b[0mload_numpy_file\u001b[0m\u001b[0;34m(\u001b[0m\u001b[0mpath\u001b[0m\u001b[0;34m)\u001b[0m\u001b[0;34m:\u001b[0m\u001b[0;34m\u001b[0m\u001b[0;34m\u001b[0m\u001b[0m\n\u001b[1;32m      7\u001b[0m     \u001b[0;31m# Load numpy array\u001b[0m\u001b[0;34m\u001b[0m\u001b[0;34m\u001b[0m\u001b[0;34m\u001b[0m\u001b[0m\n\u001b[0;32m----> 8\u001b[0;31m     \u001b[0marr\u001b[0m \u001b[0;34m=\u001b[0m \u001b[0mnp\u001b[0m\u001b[0;34m.\u001b[0m\u001b[0mload\u001b[0m\u001b[0;34m(\u001b[0m\u001b[0mpath\u001b[0m\u001b[0;34m)\u001b[0m\u001b[0;34m\u001b[0m\u001b[0;34m\u001b[0m\u001b[0m\n\u001b[0m\u001b[1;32m      9\u001b[0m     \u001b[0;31m# Return a list of numpy arrays\u001b[0m\u001b[0;34m\u001b[0m\u001b[0;34m\u001b[0m\u001b[0;34m\u001b[0m\u001b[0m\n\u001b[1;32m     10\u001b[0m     \u001b[0;32mreturn\u001b[0m \u001b[0marr\u001b[0m\u001b[0;34m\u001b[0m\u001b[0;34m\u001b[0m\u001b[0m\n",
      "\u001b[0;32m/home/shikhar.srivastava/miniconda3/envs/hovernet/lib/python3.6/site-packages/numpy/lib/npyio.py\u001b[0m in \u001b[0;36mload\u001b[0;34m(file, mmap_mode, allow_pickle, fix_imports, encoding)\u001b[0m\n\u001b[1;32m    438\u001b[0m             \u001b[0;32melse\u001b[0m\u001b[0;34m:\u001b[0m\u001b[0;34m\u001b[0m\u001b[0;34m\u001b[0m\u001b[0m\n\u001b[1;32m    439\u001b[0m                 return format.read_array(fid, allow_pickle=allow_pickle,\n\u001b[0;32m--> 440\u001b[0;31m                                          pickle_kwargs=pickle_kwargs)\n\u001b[0m\u001b[1;32m    441\u001b[0m         \u001b[0;32melse\u001b[0m\u001b[0;34m:\u001b[0m\u001b[0;34m\u001b[0m\u001b[0;34m\u001b[0m\u001b[0m\n\u001b[1;32m    442\u001b[0m             \u001b[0;31m# Try a pickle\u001b[0m\u001b[0;34m\u001b[0m\u001b[0;34m\u001b[0m\u001b[0;34m\u001b[0m\u001b[0m\n",
      "\u001b[0;32m/home/shikhar.srivastava/miniconda3/envs/hovernet/lib/python3.6/site-packages/numpy/lib/format.py\u001b[0m in \u001b[0;36mread_array\u001b[0;34m(fp, allow_pickle, pickle_kwargs)\u001b[0m\n\u001b[1;32m    739\u001b[0m         \u001b[0;32mif\u001b[0m \u001b[0misfileobj\u001b[0m\u001b[0;34m(\u001b[0m\u001b[0mfp\u001b[0m\u001b[0;34m)\u001b[0m\u001b[0;34m:\u001b[0m\u001b[0;34m\u001b[0m\u001b[0;34m\u001b[0m\u001b[0m\n\u001b[1;32m    740\u001b[0m             \u001b[0;31m# We can use the fast fromfile() function.\u001b[0m\u001b[0;34m\u001b[0m\u001b[0;34m\u001b[0m\u001b[0;34m\u001b[0m\u001b[0m\n\u001b[0;32m--> 741\u001b[0;31m             \u001b[0marray\u001b[0m \u001b[0;34m=\u001b[0m \u001b[0mnumpy\u001b[0m\u001b[0;34m.\u001b[0m\u001b[0mfromfile\u001b[0m\u001b[0;34m(\u001b[0m\u001b[0mfp\u001b[0m\u001b[0;34m,\u001b[0m \u001b[0mdtype\u001b[0m\u001b[0;34m=\u001b[0m\u001b[0mdtype\u001b[0m\u001b[0;34m,\u001b[0m \u001b[0mcount\u001b[0m\u001b[0;34m=\u001b[0m\u001b[0mcount\u001b[0m\u001b[0;34m)\u001b[0m\u001b[0;34m\u001b[0m\u001b[0;34m\u001b[0m\u001b[0m\n\u001b[0m\u001b[1;32m    742\u001b[0m         \u001b[0;32melse\u001b[0m\u001b[0;34m:\u001b[0m\u001b[0;34m\u001b[0m\u001b[0;34m\u001b[0m\u001b[0m\n\u001b[1;32m    743\u001b[0m             \u001b[0;31m# This is not a real file. We have to read it the\u001b[0m\u001b[0;34m\u001b[0m\u001b[0;34m\u001b[0m\u001b[0;34m\u001b[0m\u001b[0m\n",
      "\u001b[0;31mKeyboardInterrupt\u001b[0m: "
     ]
    }
   ],
   "source": [
    "import sys\n",
    "sys.path.append(\"..\") # Adds higher directory to python modules path.\n",
    "from preprocess.data_transformation import bucketing\n",
    "\n",
    "write_dir = '/l/users/shikhar.srivastava/data/pannuke/top9/'\n",
    "bucketing(write_dir, bucketing_threshold = 224, split_viz_path = '/l/users/shikhar.srivastava/workspace/hover_net/taskonomy/viz/data_split_viz/top9/')"
   ]
  },
  {
   "cell_type": "code",
   "execution_count": 2,
   "metadata": {},
   "outputs": [
    {
     "name": "stderr",
     "output_type": "stream",
     "text": [
      "Generating Instance, Type Masks: 100%|██████████| 7901/7901 [01:43<00:00, 76.16it/s] \n",
      "Iterating Buckets: 100%|██████████| 5/5 [00:05<00:00,  1.17s/it]"
     ]
    },
    {
     "name": "stdout",
     "output_type": "stream",
     "text": [
      "\n",
      "\n",
      "Bucketing Done\n",
      "\n",
      " Type counts are:  Breast           2351\n",
      "Colon            1440\n",
      "Adrenal_gland     437\n",
      "Esophagus         424\n",
      "Bile-duct         420\n",
      "HeadNeck          384\n",
      "Cervix            293\n",
      "Thyroid           226\n",
      "Liver             224\n",
      "Testis            196\n",
      "Pancreatic        195\n",
      "Skin              187\n",
      "Uterus            186\n",
      "Lung              184\n",
      "Prostate          182\n",
      "Ovarian           146\n",
      "Stomach           146\n",
      "Bladder           146\n",
      "Kidney            134\n",
      "dtype: int64\n",
      "\n",
      " Selected Types are: \n",
      " Breast           2351\n",
      "Colon            1440\n",
      "Adrenal_gland     437\n",
      "Esophagus         424\n",
      "Bile-duct         420\n",
      "dtype: int64\n"
     ]
    },
    {
     "name": "stderr",
     "output_type": "stream",
     "text": [
      "\n"
     ]
    },
    {
     "data": {
      "text/plain": [
       "<Figure size 576x576 with 0 Axes>"
      ]
     },
     "metadata": {},
     "output_type": "display_data"
    }
   ],
   "source": [
    "import sys\n",
    "sys.path.append(\"..\") # Adds higher directory to python modules path.\n",
    "from preprocess.data_transformation import bucketing\n",
    "\n",
    "write_dir = '/l/users/shikhar.srivastava/data/pannuke/top5/'\n",
    "bucketing(write_dir, bucketing_threshold = 420, split_viz_path = '/l/users/shikhar.srivastava/workspace/hover_net/taskonomy/viz/data_split_viz/top5/')"
   ]
  },
  {
   "cell_type": "code",
   "execution_count": 1,
   "metadata": {},
   "outputs": [
    {
     "name": "stderr",
     "output_type": "stream",
     "text": [
      "Generating Instance, Type Masks: 100%|██████████| 7901/7901 [01:43<00:00, 76.25it/s] \n",
      "Iterating Buckets: 100%|██████████| 19/19 [00:12<00:00,  1.56it/s]"
     ]
    },
    {
     "name": "stdout",
     "output_type": "stream",
     "text": [
      "\n",
      "\n",
      "Bucketing Done\n",
      "\n",
      " Type counts are:  Breast           2351\n",
      "Colon            1440\n",
      "Adrenal_gland     437\n",
      "Esophagus         424\n",
      "Bile-duct         420\n",
      "HeadNeck          384\n",
      "Cervix            293\n",
      "Thyroid           226\n",
      "Liver             224\n",
      "Testis            196\n",
      "Pancreatic        195\n",
      "Skin              187\n",
      "Uterus            186\n",
      "Lung              184\n",
      "Prostate          182\n",
      "Ovarian           146\n",
      "Stomach           146\n",
      "Bladder           146\n",
      "Kidney            134\n",
      "dtype: int64\n",
      "\n",
      " Selected Types are: \n",
      " Breast           2351\n",
      "Colon            1440\n",
      "Adrenal_gland     437\n",
      "Esophagus         424\n",
      "Bile-duct         420\n",
      "HeadNeck          384\n",
      "Cervix            293\n",
      "Thyroid           226\n",
      "Liver             224\n",
      "Testis            196\n",
      "Pancreatic        195\n",
      "Skin              187\n",
      "Uterus            186\n",
      "Lung              184\n",
      "Prostate          182\n",
      "Ovarian           146\n",
      "Stomach           146\n",
      "Bladder           146\n",
      "Kidney            134\n",
      "dtype: int64\n"
     ]
    },
    {
     "name": "stderr",
     "output_type": "stream",
     "text": [
      "\n"
     ]
    }
   ],
   "source": [
    "import sys\n",
    "sys.path.append(\"..\") # Adds higher directory to python modules path.\n",
    "from preprocess.data_transformation import bucketing\n",
    "\n",
    "write_dir = '/l/users/shikhar.srivastava/data/pannuke/top19/'\n",
    "bucketing(write_dir, bucketing_threshold = 134, split_viz_path = '/l/users/shikhar.srivastava/workspace/hover_net/taskonomy/viz/data_split_viz/top19/')"
   ]
  },
  {
   "cell_type": "code",
   "execution_count": null,
   "metadata": {},
   "outputs": [],
   "source": []
  }
 ],
 "metadata": {
  "interpreter": {
   "hash": "b2391a236306fb79c89482e1c509a0539c8a26ad780f531c643e7edf8c35927a"
  },
  "kernelspec": {
   "display_name": "Python 3.6.12 64-bit ('hovernet': conda)",
   "language": "python",
   "name": "python3"
  },
  "language_info": {
   "codemirror_mode": {
    "name": "ipython",
    "version": 3
   },
   "file_extension": ".py",
   "mimetype": "text/x-python",
   "name": "python",
   "nbconvert_exporter": "python",
   "pygments_lexer": "ipython3",
   "version": "3.6.12"
  },
  "orig_nbformat": 4
 },
 "nbformat": 4,
 "nbformat_minor": 2
}
