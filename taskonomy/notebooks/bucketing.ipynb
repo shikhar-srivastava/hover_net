{
 "cells": [
  {
   "cell_type": "code",
   "execution_count": 2,
   "metadata": {},
   "outputs": [],
   "source": [
    "\n",
    "import sys\n",
    "sys.path.append(\"..\") # Adds higher directory to python modules path.\n",
    "from utils.data_utils import *"
   ]
  },
  {
   "cell_type": "code",
   "execution_count": 31,
   "metadata": {},
   "outputs": [],
   "source": [
    "input_dir ='/l/users/shikhar.srivastava/data/pannuke/full/'\n",
    "masks = load_numpy_file(input_dir + 'masks.npy')\n"
   ]
  },
  {
   "cell_type": "code",
   "execution_count": 32,
   "metadata": {},
   "outputs": [
    {
     "name": "stderr",
     "output_type": "stream",
     "text": [
      "Generating Instance, Type Masks: 100%|██████████| 1000/1000 [00:13<00:00, 73.03it/s]\n"
     ]
    }
   ],
   "source": [
    "type_mask, inst_mask = pre_processing_mask(masks[:1000])"
   ]
  },
  {
   "cell_type": "code",
   "execution_count": 58,
   "metadata": {},
   "outputs": [
    {
     "data": {
      "text/plain": [
       "<AxesSubplot:ylabel='None'>"
      ]
     },
     "execution_count": 58,
     "metadata": {},
     "output_type": "execute_result"
    },
    {
     "data": {
      "image/png": "[encoded data removed]",
      "text/plain": [
       "<Figure size 432x288 with 1 Axes>"
      ]
     },
     "metadata": {},
     "output_type": "display_data"
    }
   ],
   "source": [
    "import pandas as pd\n",
    "import matplotlib.pyplot as plt\n",
    "pd.DataFrame(type_mask[type_mask !=0].flatten()).value_counts().plot(kind='pie', title = 'Type Mask')"
   ]
  },
  {
   "cell_type": "code",
   "execution_count": 1,
   "metadata": {},
   "outputs": [
    {
     "name": "stderr",
     "output_type": "stream",
     "text": [
      "Generating Instance, Type Masks: 100%|██████████| 7901/7901 [01:45<00:00, 75.12it/s] \n",
      "Iterating Buckets: 100%|██████████| 9/9 [00:04<00:00,  2.18it/s]"
     ]
    },
    {
     "name": "stdout",
     "output_type": "stream",
     "text": [
      "\n",
      "\n",
      "Bucketing Done\n",
      "\n",
      " Type counts are:  Breast           2351\n",
      "Colon            1440\n",
      "Adrenal_gland     437\n",
      "Esophagus         424\n",
      "Bile-duct         420\n",
      "HeadNeck          384\n",
      "Cervix            293\n",
      "Thyroid           226\n",
      "Liver             224\n",
      "Testis            196\n",
      "Pancreatic        195\n",
      "Skin              187\n",
      "Uterus            186\n",
      "Lung              184\n",
      "Prostate          182\n",
      "Ovarian           146\n",
      "Stomach           146\n",
      "Bladder           146\n",
      "Kidney            134\n",
      "dtype: int64\n",
      "\n",
      " Selected Types are: \n",
      " Breast           2351\n",
      "Colon            1440\n",
      "Adrenal_gland     437\n",
      "Esophagus         424\n",
      "Bile-duct         420\n",
      "HeadNeck          384\n",
      "Cervix            293\n",
      "Thyroid           226\n",
      "Liver             224\n",
      "dtype: int64\n"
     ]
    },
    {
     "name": "stderr",
     "output_type": "stream",
     "text": [
      "\n"
     ]
    }
   ],
   "source": [
    "import sys\n",
    "sys.path.append(\"..\") # Adds higher directory to python modules path.\n",
    "from preprocess.data_transformation import bucketing\n",
    "\n",
    "write_dir = '/l/users/shikhar.srivastava/data/pannuke/proc10/'\n",
    "bucketing(write_dir, )"
   ]
  },
  {
   "cell_type": "code",
   "execution_count": null,
   "metadata": {},
   "outputs": [],
   "source": []
  }
 ],
 "metadata": {
  "interpreter": {
   "hash": "b2391a236306fb79c89482e1c509a0539c8a26ad780f531c643e7edf8c35927a"
  },
  "kernelspec": {
   "display_name": "Python 3.6.12 64-bit ('hovernet': conda)",
   "language": "python",
   "name": "python3"
  },
  "language_info": {
   "codemirror_mode": {
    "name": "ipython",
    "version": 3
   },
   "file_extension": ".py",
   "mimetype": "text/x-python",
   "name": "python",
   "nbconvert_exporter": "python",
   "pygments_lexer": "ipython3",
   "version": "3.6.12"
  },
  "orig_nbformat": 4
 },
 "nbformat": 4,
 "nbformat_minor": 2
}
