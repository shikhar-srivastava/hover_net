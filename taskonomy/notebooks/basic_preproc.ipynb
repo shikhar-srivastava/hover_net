{
 "cells": [
  {
   "cell_type": "markdown",
   "metadata": {},
   "source": [
    "img_path = '/l/users/shikhar.srivastava/data/pannuke/Fold 2/images/fold2/images.npy'\n",
    "img = load_numpy_file(img_path)\n",
    "type_path = '/l/users/shikhar.srivastava/data/pannuke/Fold 2/images/fold2/types.npy'\n",
    "types = load_numpy_file(type_path)\n",
    "mask_path = '/l/users/shikhar.srivastava/data/pannuke/Fold 2/masks/fold2/masks.npy'\n",
    "masks = load_numpy_file(mask_path)\n"
   ]
  },
  {
   "cell_type": "markdown",
   "metadata": {},
   "source": [
    "masks.shape"
   ]
  },
  {
   "cell_type": "markdown",
   "metadata": {},
   "source": [
    "img.shape"
   ]
  },
  {
   "cell_type": "markdown",
   "metadata": {},
   "source": [
    "types.shape"
   ]
  },
  {
   "cell_type": "markdown",
   "metadata": {},
   "source": []
  },
  {
   "cell_type": "markdown",
   "metadata": {},
   "source": [
    "## Collate from multiple folds and write"
   ]
  },
  {
   "cell_type": "markdown",
   "metadata": {},
   "source": [
    "import numpy as np\n",
    "def collate_files(folds):\n",
    "    img = np.empty((0, 256, 256, 3))\n",
    "    type = np.empty((0))\n",
    "    mask = np.empty((0, 256, 256, 6))\n",
    "    for fold_id in range(1, folds+1):\n",
    "        path = '/l/users/shikhar.srivastava/data/pannuke/Fold %d' % fold_id\n",
    "        img_path = path + '/images/fold%d/images.npy' % fold_id\n",
    "        type_path = path + '/images/fold%d/types.npy' % fold_id\n",
    "        mask_path = path + '/masks/fold%d/masks.npy' % fold_id\n",
    "        img_ = load_numpy_file(img_path)\n",
    "        types_ = load_numpy_file(type_path)\n",
    "        masks_ = load_numpy_file(mask_path)\n",
    "        img = np.concatenate([img,img_], axis = 0)\n",
    "        type = np.concatenate([type,types_], axis = 0)\n",
    "        mask = np.concatenate([mask,masks_], axis = 0)\n",
    "        print(fold_id, \"\\t\", img.shape)\n",
    "        print(fold_id, \"\\t\", type.shape)\n",
    "        del img_, types_, masks_\n",
    "    return img, type, mask"
   ]
  },
  {
   "cell_type": "markdown",
   "metadata": {},
   "source": [
    "img, type, mask = collate_files(3)"
   ]
  },
  {
   "cell_type": "markdown",
   "metadata": {},
   "source": [
    "img.shape"
   ]
  },
  {
   "cell_type": "markdown",
   "metadata": {},
   "source": [
    "\n",
    "write_dir = '/l/users/shikhar.srivastava/data/pannuke/full/'\n",
    "write_numpy_file(write_dir + 'images.npy', img)\n",
    "write_numpy_file(write_dir + 'types.npy', type)\n",
    "write_numpy_file(write_dir + 'masks.npy', mask)"
   ]
  },
  {
   "cell_type": "code",
   "execution_count": 1,
   "metadata": {},
   "outputs": [],
   "source": [
    "import numpy as np\n",
    "# Load images from numpy array\n",
    "def load_numpy_file(path):\n",
    "    # Load numpy array\n",
    "    arr = np.load(path)\n",
    "    # Return a list of numpy arrays\n",
    "    return arr\n",
    "# Write numpy files to path\n",
    "def write_numpy_file(path, arr):\n",
    "    np.save(path, arr)\n",
    "    return"
   ]
  },
  {
   "cell_type": "markdown",
   "metadata": {},
   "source": [
    "### Pre-processing Masks to generate INST, TYPE MASKS"
   ]
  },
  {
   "cell_type": "code",
   "execution_count": 2,
   "metadata": {},
   "outputs": [],
   "source": [
    "img_path = '/l/users/shikhar.srivastava/data/pannuke/full/images.npy'\n",
    "img = load_numpy_file(img_path)\n",
    "type_path = '/l/users/shikhar.srivastava/data/pannuke/full/types.npy'\n",
    "types = load_numpy_file(type_path)\n",
    "mask_path = '/l/users/shikhar.srivastava/data/pannuke/full/masks.npy'\n",
    "masks = load_numpy_file(mask_path)\n",
    "\n",
    "import numpy as np\n",
    "from data_utils import *\n",
    "# Exchange first and last dimensions so Background is dimension 0 and Neoplastic is dimension -1\n"
   ]
  },
  {
   "cell_type": "code",
   "execution_count": 3,
   "metadata": {},
   "outputs": [
    {
     "name": "stderr",
     "output_type": "stream",
     "text": [
      "Generating Instance, Type Masks: 100%|██████████| 7901/7901 [01:44<00:00, 75.86it/s] \n"
     ]
    }
   ],
   "source": [
    "ann_type, ann_inst = pre_processing_mask(masks)"
   ]
  },
  {
   "cell_type": "code",
   "execution_count": 14,
   "metadata": {},
   "outputs": [
    {
     "data": {
      "text/plain": [
       "0      53536913\n",
       "4        587724\n",
       "5        582800\n",
       "2        577964\n",
       "3        572692\n",
       "         ...   \n",
       "116         235\n",
       "117         148\n",
       "120          85\n",
       "118          80\n",
       "119           2\n",
       "Length: 121, dtype: int64"
      ]
     },
     "execution_count": 14,
     "metadata": {},
     "output_type": "execute_result"
    }
   ],
   "source": [
    "import pandas as pd\n",
    "\n",
    "pd.DataFrame(ann_inst[:1000].flatten()).value_counts()"
   ]
  },
  {
   "cell_type": "code",
   "execution_count": 6,
   "metadata": {},
   "outputs": [],
   "source": [
    "test = np.copy(masks)"
   ]
  },
  {
   "cell_type": "code",
   "execution_count": 7,
   "metadata": {},
   "outputs": [],
   "source": [
    "binary_map = test[:,:,:,0]\n",
    "inst_multichannel = test[:,:,:,1:]"
   ]
  },
  {
   "cell_type": "code",
   "execution_count": 10,
   "metadata": {},
   "outputs": [
    {
     "data": {
      "text/plain": [
       "0     56815\n",
       "10     2818\n",
       "6      1062\n",
       "3       925\n",
       "9       868\n",
       "7       832\n",
       "8       813\n",
       "5       549\n",
       "1       421\n",
       "2       327\n",
       "4       106\n",
       "dtype: int64"
      ]
     },
     "execution_count": 10,
     "metadata": {},
     "output_type": "execute_result"
    }
   ],
   "source": [
    "import pandas as pd\n",
    "pd.DataFrame(binarize(inst_multichannel[1]).flatten()).value_counts()"
   ]
  },
  {
   "cell_type": "code",
   "execution_count": 9,
   "metadata": {},
   "outputs": [
    {
     "data": {
      "text/plain": [
       "1.0    420747521\n",
       "0.0     97052415\n",
       "dtype: int64"
      ]
     },
     "execution_count": 9,
     "metadata": {},
     "output_type": "execute_result"
    }
   ],
   "source": [
    "pd.DataFrame(masks[:,:,:,0].flatten()).value_counts()"
   ]
  },
  {
   "cell_type": "code",
   "execution_count": 10,
   "metadata": {},
   "outputs": [
    {
     "data": {
      "text/plain": [
       "0.0       508611437\n",
       "12.0          28376\n",
       "6.0           28210\n",
       "8.0           28121\n",
       "11.0          28039\n",
       "            ...    \n",
       "1457.0            6\n",
       "2282.0            6\n",
       "2293.0            4\n",
       "2017.0            3\n",
       "2082.0            2\n",
       "Length: 2046, dtype: int64"
      ]
     },
     "execution_count": 10,
     "metadata": {},
     "output_type": "execute_result"
    }
   ],
   "source": [
    "pd.DataFrame(masks[:,:,:,1].flatten()).value_counts()"
   ]
  },
  {
   "cell_type": "code",
   "execution_count": 11,
   "metadata": {},
   "outputs": [
    {
     "data": {
      "text/plain": [
       "0.0       498450019\n",
       "1.0          108851\n",
       "2.0          107249\n",
       "3.0           96515\n",
       "8.0           94259\n",
       "            ...    \n",
       "2286.0           22\n",
       "3506.0           20\n",
       "2290.0           10\n",
       "2291.0            6\n",
       "1485.0            2\n",
       "Length: 1931, dtype: int64"
      ]
     },
     "execution_count": 11,
     "metadata": {},
     "output_type": "execute_result"
    }
   ],
   "source": [
    "pd.DataFrame(masks[:,:,:,2].flatten()).value_counts()"
   ]
  },
  {
   "cell_type": "code",
   "execution_count": 12,
   "metadata": {},
   "outputs": [
    {
     "data": {
      "text/plain": [
       "0.0       517441913\n",
       "1.0            2709\n",
       "18.0           1843\n",
       "136.0          1728\n",
       "3.0            1538\n",
       "            ...    \n",
       "429.0             9\n",
       "907.0             7\n",
       "1366.0            6\n",
       "763.0             2\n",
       "3517.0            2\n",
       "Length: 1934, dtype: int64"
      ]
     },
     "execution_count": 12,
     "metadata": {},
     "output_type": "execute_result"
    }
   ],
   "source": [
    "pd.DataFrame(masks[:,:,:,3].flatten()).value_counts()"
   ]
  },
  {
   "cell_type": "code",
   "execution_count": 13,
   "metadata": {},
   "outputs": [
    {
     "data": {
      "text/plain": [
       "0.0       504976797\n",
       "30.0          40512\n",
       "120.0         38871\n",
       "144.0         37556\n",
       "191.0         37155\n",
       "            ...    \n",
       "1345.0          111\n",
       "914.0           111\n",
       "1549.0          109\n",
       "1127.0          106\n",
       "1173.0           30\n",
       "Length: 1138, dtype: int64"
      ]
     },
     "execution_count": 13,
     "metadata": {},
     "output_type": "execute_result"
    }
   ],
   "source": [
    "pd.DataFrame(masks[:,:,:,4].flatten()).value_counts()"
   ]
  },
  {
   "cell_type": "code",
   "execution_count": 14,
   "metadata": {},
   "outputs": [
    {
     "data": {
      "text/plain": [
       "0.0       472948872\n",
       "1.0          180117\n",
       "2.0          159209\n",
       "6.0          158278\n",
       "86.0         157542\n",
       "            ...    \n",
       "1850.0           14\n",
       "2109.0           12\n",
       "3515.0            8\n",
       "2110.0            4\n",
       "3514.0            3\n",
       "Length: 2558, dtype: int64"
      ]
     },
     "execution_count": 14,
     "metadata": {},
     "output_type": "execute_result"
    }
   ],
   "source": [
    "pd.DataFrame(masks[:,:,:,5].flatten()).value_counts()"
   ]
  },
  {
   "cell_type": "code",
   "execution_count": 6,
   "metadata": {},
   "outputs": [],
   "source": [
    "import pandas as pd\n",
    "check = pd.DataFrame(masks.flatten())"
   ]
  },
  {
   "cell_type": "code",
   "execution_count": 7,
   "metadata": {},
   "outputs": [
    {
     "data": {
      "text/plain": [
       "0.0       2599481453\n",
       "1.0        421093062\n",
       "2.0           326039\n",
       "6.0           300073\n",
       "3.0           297596\n",
       "             ...    \n",
       "3513.0            12\n",
       "2325.0             9\n",
       "3515.0             8\n",
       "3514.0             3\n",
       "3517.0             2\n",
       "Length: 3463, dtype: int64"
      ]
     },
     "execution_count": 7,
     "metadata": {},
     "output_type": "execute_result"
    }
   ],
   "source": [
    "check.value_counts()"
   ]
  },
  {
   "cell_type": "code",
   "execution_count": 5,
   "metadata": {},
   "outputs": [],
   "source": [
    "inst_mask = np.max(masks, axis = -1)"
   ]
  },
  {
   "cell_type": "code",
   "execution_count": 10,
   "metadata": {},
   "outputs": [
    {
     "data": {
      "text/plain": [
       "array([[[  1.,   1.,   1., ...,   1.,   1.,   1.],\n",
       "        [  1.,   1.,   1., ...,   1.,   1.,   1.],\n",
       "        [  1.,   1.,   1., ...,   1.,   1.,   1.],\n",
       "        ...,\n",
       "        [  1.,   1.,   1., ...,   1.,   1.,   1.],\n",
       "        [  1.,   1.,   1., ...,   1.,   1.,   1.],\n",
       "        [  1.,   1.,   1., ...,   1.,   1.,   1.]],\n",
       "\n",
       "       [[  1.,   1.,   1., ...,   1.,   1.,   1.],\n",
       "        [  1.,   1.,   1., ...,   1.,   1.,   1.],\n",
       "        [  1.,   1.,   1., ...,   1.,   1.,   1.],\n",
       "        ...,\n",
       "        [  1.,   1.,   1., ...,   1.,   1.,   1.],\n",
       "        [  1.,   1.,   1., ...,   1.,   1.,   1.],\n",
       "        [  1.,   1.,   1., ...,   1.,   1.,   1.]],\n",
       "\n",
       "       [[  1.,   1.,   1., ...,   1.,   1.,   1.],\n",
       "        [  1.,   1.,   1., ...,   1.,   1.,   1.],\n",
       "        [  1.,   1.,   1., ...,   1.,   1.,   1.],\n",
       "        ...,\n",
       "        [  1.,   1.,   1., ...,   1.,   1.,   1.],\n",
       "        [  1.,   1.,   1., ...,   1.,   1.,   1.],\n",
       "        [  1.,   1.,   1., ...,   1.,   1.,   1.]],\n",
       "\n",
       "       ...,\n",
       "\n",
       "       [[  1.,   1.,   1., ...,   1.,   1.,   1.],\n",
       "        [  1.,   1.,   1., ...,   1.,   1.,   1.],\n",
       "        [  1.,   1.,   1., ..., 265., 265.,   1.],\n",
       "        ...,\n",
       "        [  1.,   1.,   1., ...,   1.,   1.,   1.],\n",
       "        [  1.,   1.,   1., ...,   1.,   1.,   1.],\n",
       "        [  1.,   1.,   1., ...,   1.,   1.,   1.]],\n",
       "\n",
       "       [[  1.,   1.,   1., ...,   1.,   1.,   1.],\n",
       "        [  1.,   1.,   1., ...,   1.,   1.,   1.],\n",
       "        [  1.,   1.,   1., ...,   1.,   1.,   1.],\n",
       "        ...,\n",
       "        [  1.,   1.,   1., ...,   1.,   1.,   1.],\n",
       "        [  1.,   1.,   1., ...,   1.,   1.,   1.],\n",
       "        [  1.,   1.,   1., ...,   1.,   1.,   1.]],\n",
       "\n",
       "       [[  1.,   1.,   1., ...,   1.,   1.,   1.],\n",
       "        [  1.,   1.,   1., ...,   1.,   1.,   1.],\n",
       "        [  1.,   1.,   1., ...,   1.,   1.,   1.],\n",
       "        ...,\n",
       "        [  1.,   1.,   1., ...,   1.,   1.,   1.],\n",
       "        [  1.,   1.,   1., ...,   1.,   1.,   1.],\n",
       "        [  1.,   1.,   1., ...,   1.,   1.,   1.]]])"
      ]
     },
     "execution_count": 10,
     "metadata": {},
     "output_type": "execute_result"
    }
   ],
   "source": [
    "inst_mask"
   ]
  },
  {
   "cell_type": "code",
   "execution_count": 7,
   "metadata": {},
   "outputs": [],
   "source": [
    "_m = np.copy(masks)\n",
    "_m[_m>=1] = 1\n",
    "_m[_m<1] = 0\n",
    "# Multiply each element of _m by its corresponding dimension index\n",
    "_m = np.max(_m * np.arange(1, _m.shape[-1]+1), axis = -1) - 1\n",
    "_m[_m<0] = 0"
   ]
  },
  {
   "cell_type": "code",
   "execution_count": 9,
   "metadata": {},
   "outputs": [],
   "source": [
    "type_mask = np.copy(_m)"
   ]
  },
  {
   "cell_type": "code",
   "execution_count": 16,
   "metadata": {},
   "outputs": [],
   "source": [
    "import os\n",
    "write_dir = '/l/users/shikhar.srivastava/data/pannuke/proc4/'\n",
    "if not os.path.exists(write_dir):\n",
    "    os.makedirs(write_dir)\n",
    "    \n",
    "write_numpy_file(write_dir + 'inst_mask.npy', inst_mask)\n",
    "write_numpy_file(write_dir + 'type_mask.npy', type_mask)"
   ]
  },
  {
   "cell_type": "code",
   "execution_count": 28,
   "metadata": {},
   "outputs": [
    {
     "data": {
      "text/plain": [
       "array([   0,    1,    2, ..., 3510, 3512, 4753])"
      ]
     },
     "execution_count": 28,
     "metadata": {},
     "output_type": "execute_result"
    }
   ],
   "source": [
    "np.unique(inst_mask[:2000]).astype(int)"
   ]
  },
  {
   "cell_type": "code",
   "execution_count": 29,
   "metadata": {},
   "outputs": [
    {
     "data": {
      "text/plain": [
       "array([0., 1., 2., 3., 4., 5., 6., 7.])"
      ]
     },
     "execution_count": 29,
     "metadata": {},
     "output_type": "execute_result"
    }
   ],
   "source": [
    "np.unique(type_mask[:5000])"
   ]
  },
  {
   "cell_type": "code",
   "execution_count": 16,
   "metadata": {},
   "outputs": [
    {
     "data": {
      "text/plain": [
       "array([1, 2, 3, 4])"
      ]
     },
     "execution_count": 16,
     "metadata": {},
     "output_type": "execute_result"
    }
   ],
   "source": [
    "np.arange(1,5)"
   ]
  },
  {
   "cell_type": "code",
   "execution_count": 15,
   "metadata": {},
   "outputs": [
    {
     "data": {
      "text/plain": [
       "array([0., 1., 2., 3., 4., 5., 6., 7., 8., 9.])"
      ]
     },
     "execution_count": 15,
     "metadata": {},
     "output_type": "execute_result"
    }
   ],
   "source": [
    "np.unique(type_mask[:2000])"
   ]
  },
  {
   "cell_type": "code",
   "execution_count": 58,
   "metadata": {},
   "outputs": [
    {
     "data": {
      "text/plain": [
       "array([ 0., 19., 28.])"
      ]
     },
     "execution_count": 58,
     "metadata": {},
     "output_type": "execute_result"
    }
   ],
   "source": [
    "np.unique(masks[0,:,:,1])"
   ]
  },
  {
   "cell_type": "code",
   "execution_count": 59,
   "metadata": {},
   "outputs": [
    {
     "data": {
      "text/plain": [
       "array([ 0., 18., 41.])"
      ]
     },
     "execution_count": 59,
     "metadata": {},
     "output_type": "execute_result"
    }
   ],
   "source": [
    "np.unique(masks[0,:,:,2])"
   ]
  },
  {
   "cell_type": "code",
   "execution_count": 60,
   "metadata": {},
   "outputs": [
    {
     "data": {
      "text/plain": [
       "array([0.])"
      ]
     },
     "execution_count": 60,
     "metadata": {},
     "output_type": "execute_result"
    }
   ],
   "source": [
    "np.unique(masks[0,:,:,3])"
   ]
  },
  {
   "cell_type": "code",
   "execution_count": 61,
   "metadata": {},
   "outputs": [
    {
     "data": {
      "text/plain": [
       "array([0.])"
      ]
     },
     "execution_count": 61,
     "metadata": {},
     "output_type": "execute_result"
    }
   ],
   "source": [
    "np.unique(masks[0,:,:,4])"
   ]
  },
  {
   "cell_type": "code",
   "execution_count": 62,
   "metadata": {},
   "outputs": [
    {
     "data": {
      "text/plain": [
       "array([0., 1.])"
      ]
     },
     "execution_count": 62,
     "metadata": {},
     "output_type": "execute_result"
    }
   ],
   "source": [
    "np.unique(masks[0,:,:,5])"
   ]
  },
  {
   "cell_type": "code",
   "execution_count": null,
   "metadata": {},
   "outputs": [],
   "source": []
  }
 ],
 "metadata": {
  "interpreter": {
   "hash": "b2391a236306fb79c89482e1c509a0539c8a26ad780f531c643e7edf8c35927a"
  },
  "kernelspec": {
   "display_name": "Python 3.6.12 64-bit ('hovernet': conda)",
   "language": "python",
   "name": "python3"
  },
  "language_info": {
   "codemirror_mode": {
    "name": "ipython",
    "version": 3
   },
   "file_extension": ".py",
   "mimetype": "text/x-python",
   "name": "python",
   "nbconvert_exporter": "python",
   "pygments_lexer": "ipython3",
   "version": "3.6.12"
  },
  "orig_nbformat": 4
 },
 "nbformat": 4,
 "nbformat_minor": 2
}
