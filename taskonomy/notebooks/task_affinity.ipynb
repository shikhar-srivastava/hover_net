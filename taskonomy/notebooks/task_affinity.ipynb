{
 "cells": [
  {
   "cell_type": "markdown",
   "metadata": {},
   "source": []
  },
  {
   "cell_type": "code",
   "execution_count": 3,
   "metadata": {},
   "outputs": [],
   "source": [
    "import pickle\n",
    "# Load Picked file\n",
    "with open('/l/users/shikhar.srivastava/workspace/hover_net/trail.pkl', \"rb\") as pkl_file:\n",
    "    raw_data = pickle.load(pkl_file)"
   ]
  },
  {
   "cell_type": "code",
   "execution_count": 10,
   "metadata": {},
   "outputs": [
    {
     "data": {
      "text/plain": [
       "336"
      ]
     },
     "execution_count": 10,
     "metadata": {},
     "output_type": "execute_result"
    }
   ],
   "source": [
    "len(raw_data['imgs'])"
   ]
  },
  {
   "cell_type": "code",
   "execution_count": 12,
   "metadata": {},
   "outputs": [
    {
     "data": {
      "text/plain": [
       "dict_keys(['imgs', 'true_np', 'true_hv', 'prob_np', 'pred_hv', 'true_tp', 'pred_tp'])"
      ]
     },
     "execution_count": 12,
     "metadata": {},
     "output_type": "execute_result"
    }
   ],
   "source": [
    "raw_data.keys()"
   ]
  },
  {
   "cell_type": "code",
   "execution_count": 14,
   "metadata": {},
   "outputs": [],
   "source": [
    "a = dict()"
   ]
  },
  {
   "cell_type": "code",
   "execution_count": 16,
   "metadata": {},
   "outputs": [],
   "source": [
    "nr_types = 6"
   ]
  },
  {
   "cell_type": "code",
   "execution_count": 40,
   "metadata": {},
   "outputs": [
    {
     "data": {
      "text/plain": [
       "336"
      ]
     },
     "execution_count": 40,
     "metadata": {},
     "output_type": "execute_result"
    }
   ],
   "source": [
    "len(raw_data[\"true_np\"])"
   ]
  },
  {
   "cell_type": "code",
   "execution_count": 47,
   "metadata": {},
   "outputs": [
    {
     "data": {
      "text/plain": [
       "(164, 164)"
      ]
     },
     "execution_count": 47,
     "metadata": {},
     "output_type": "execute_result"
    }
   ],
   "source": [
    "raw_data['true_np'][0].shape"
   ]
  },
  {
   "cell_type": "code",
   "execution_count": 43,
   "metadata": {},
   "outputs": [
    {
     "data": {
      "text/plain": [
       "26896"
      ]
     },
     "execution_count": 43,
     "metadata": {},
     "output_type": "execute_result"
    }
   ],
   "source": [
    "import numpy as np\n",
    "np.size(raw_data[\"true_np\"][0])"
   ]
  },
  {
   "cell_type": "markdown",
   "metadata": {},
   "source": [
    "## Second Order Metrics"
   ]
  },
  {
   "cell_type": "code",
   "execution_count": 2,
   "metadata": {},
   "outputs": [],
   "source": [
    "import pandas as pd\n",
    "import numpy as np\n",
    "import json\n",
    "bucket_type = 'top5'\n",
    "\n",
    "type_list_path = f'/l/users/shikhar.srivastava/data/pannuke/{bucket_type}/selected_types.csv'\n",
    "type_list = pd.read_csv(type_list_path)['0']\n",
    "metrics = pd.DataFrame(columns=['source_type','target_type', 'acc', 'dice', 'loss'])\n",
    "for source_type in type_list:\n",
    "    for target_type in type_list:\n",
    "        logs_path = f'/l/users/shikhar.srivastava/workspace/hover_net/logs/second_order/{bucket_type}/ckpts/{source_type}-{target_type}/stats.json'\n",
    "        with open(logs_path) as f:\n",
    "            logs = json.load(f)['50']\n",
    "        metrics = metrics.append({'source_type': source_type, 'target_type': target_type, 'acc': logs['valid-np_acc'], 'dice': logs['valid-np_dice'], 'loss': logs['train-overall_loss']}, ignore_index=True)\n"
   ]
  },
  {
   "cell_type": "code",
   "execution_count": 38,
   "metadata": {},
   "outputs": [],
   "source": [
    "acc_pivot = metrics.pivot_table(index='source_type', columns='target_type', values='acc')"
   ]
  },
  {
   "cell_type": "code",
   "execution_count": 43,
   "metadata": {},
   "outputs": [
    {
     "data": {
      "text/html": [
       "<div>\n",
       "<style scoped>\n",
       "    .dataframe tbody tr th:only-of-type {\n",
       "        vertical-align: middle;\n",
       "    }\n",
       "\n",
       "    .dataframe tbody tr th {\n",
       "        vertical-align: top;\n",
       "    }\n",
       "\n",
       "    .dataframe thead th {\n",
       "        text-align: right;\n",
       "    }\n",
       "</style>\n",
       "<table border=\"1\" class=\"dataframe\">\n",
       "  <thead>\n",
       "    <tr style=\"text-align: right;\">\n",
       "      <th>target_type</th>\n",
       "      <th>Adrenal_gland</th>\n",
       "      <th>Bile-duct</th>\n",
       "      <th>Breast</th>\n",
       "      <th>Colon</th>\n",
       "      <th>Esophagus</th>\n",
       "    </tr>\n",
       "    <tr>\n",
       "      <th>source_type</th>\n",
       "      <th></th>\n",
       "      <th></th>\n",
       "      <th></th>\n",
       "      <th></th>\n",
       "      <th></th>\n",
       "    </tr>\n",
       "  </thead>\n",
       "  <tbody>\n",
       "    <tr>\n",
       "      <th>Adrenal_gland</th>\n",
       "      <td>0.975781</td>\n",
       "      <td>0.970176</td>\n",
       "      <td>0.953206</td>\n",
       "      <td>0.944140</td>\n",
       "      <td>0.959045</td>\n",
       "    </tr>\n",
       "    <tr>\n",
       "      <th>Bile-duct</th>\n",
       "      <td>0.974200</td>\n",
       "      <td>0.971785</td>\n",
       "      <td>0.952998</td>\n",
       "      <td>0.942867</td>\n",
       "      <td>0.959940</td>\n",
       "    </tr>\n",
       "    <tr>\n",
       "      <th>Breast</th>\n",
       "      <td>0.973522</td>\n",
       "      <td>0.969827</td>\n",
       "      <td>0.957857</td>\n",
       "      <td>0.946156</td>\n",
       "      <td>0.959767</td>\n",
       "    </tr>\n",
       "    <tr>\n",
       "      <th>Colon</th>\n",
       "      <td>0.971806</td>\n",
       "      <td>0.969518</td>\n",
       "      <td>0.954024</td>\n",
       "      <td>0.951965</td>\n",
       "      <td>0.957458</td>\n",
       "    </tr>\n",
       "    <tr>\n",
       "      <th>Esophagus</th>\n",
       "      <td>0.974043</td>\n",
       "      <td>0.969925</td>\n",
       "      <td>0.952683</td>\n",
       "      <td>0.942557</td>\n",
       "      <td>0.962185</td>\n",
       "    </tr>\n",
       "  </tbody>\n",
       "</table>\n",
       "</div>"
      ],
      "text/plain": [
       "target_type    Adrenal_gland  Bile-duct    Breast     Colon  Esophagus\n",
       "source_type                                                           \n",
       "Adrenal_gland       0.975781   0.970176  0.953206  0.944140   0.959045\n",
       "Bile-duct           0.974200   0.971785  0.952998  0.942867   0.959940\n",
       "Breast              0.973522   0.969827  0.957857  0.946156   0.959767\n",
       "Colon               0.971806   0.969518  0.954024  0.951965   0.957458\n",
       "Esophagus           0.974043   0.969925  0.952683  0.942557   0.962185"
      ]
     },
     "execution_count": 43,
     "metadata": {},
     "output_type": "execute_result"
    }
   ],
   "source": [
    "acc_pivot"
   ]
  },
  {
   "cell_type": "code",
   "execution_count": 58,
   "metadata": {},
   "outputs": [
    {
     "data": {
      "text/plain": [
       "source_type\n",
       "Adrenal_gland    0.953206\n",
       "Bile-duct        0.952998\n",
       "Breast           0.957857\n",
       "Colon            0.954024\n",
       "Esophagus        0.952683\n",
       "Name: Breast, dtype: float64"
      ]
     },
     "execution_count": 58,
     "metadata": {},
     "output_type": "execute_result"
    }
   ],
   "source": [
    "# Github path\n"
   ]
  },
  {
   "cell_type": "code",
   "execution_count": 61,
   "metadata": {},
   "outputs": [
    {
     "name": "stdout",
     "output_type": "stream",
     "text": [
      "target_type:  Breast\n",
      "Colon Colon\n",
      "0.0\n",
      "Colon Esophagus\n",
      "0.0013410340712727287\n",
      "Colon Bile-duct\n",
      "0.0010261085025919936\n",
      "Colon Adrenal_gland\n",
      "0.0008180761522336155\n",
      "target_type:  Colon\n",
      "Esophagus Esophagus\n",
      "0.0\n",
      "Esophagus Bile-duct\n",
      "-0.0003102780374493186\n",
      "Esophagus Breast\n",
      "-0.0035995129387269564\n",
      "Esophagus Adrenal_gland\n",
      "-0.0015829270063171252\n",
      "target_type:  Adrenal_gland\n",
      "Colon Colon\n",
      "0.0\n",
      "Colon Esophagus\n",
      "-0.0022371223548908192\n",
      "Colon Bile-duct\n",
      "-0.0023941425172091524\n",
      "Colon Breast\n",
      "-0.001716377545961878\n",
      "target_type:  Esophagus\n",
      "Colon Colon\n",
      "0.0\n",
      "Colon Bile-duct\n",
      "-0.0024821136440894565\n",
      "Colon Breast\n",
      "-0.0023093803999887363\n",
      "Colon Adrenal_gland\n",
      "-0.0015871319155265073\n",
      "target_type:  Bile-duct\n",
      "Colon Colon\n",
      "0.0\n",
      "Colon Esophagus\n",
      "-0.0004077655378034173\n",
      "Colon Breast\n",
      "-0.0003095034489107862\n",
      "Colon Adrenal_gland\n",
      "-0.0006587322242995741\n"
     ]
    }
   ],
   "source": [
    "W = np.zeros(shape = (len(type_list), len(type_list) - 1, len(type_list) - 1))\n",
    "labels = []\n",
    "for t, target_type in enumerate(type_list):\n",
    "    sources = set(type_list)\n",
    "    sources.remove(target_type)\n",
    "\n",
    "    print('target_type: ', target_type)\n",
    "    n_sources = len(sources) # All but the target, can be source types\n",
    "    W_t = np.zeros((n_sources, n_sources))\n",
    "    labels_t = list(sources)\n",
    "\n",
    "    for i, source_i in enumerate(sources):\n",
    "        for j, source_j in enumerate(sources):\n",
    "            print(source_i, source_j)\n",
    "            W_t[i, j] = acc_pivot.loc[source_i, target_type] - acc_pivot.loc[source_j, target_type]\n",
    "        \n",
    "    W[t, :, :] = W_t\n",
    "    labels.append(labels_t)\n",
    "        "
   ]
  },
  {
   "cell_type": "code",
   "execution_count": 21,
   "metadata": {},
   "outputs": [
    {
     "data": {
      "text/html": [
       "<div>\n",
       "<style scoped>\n",
       "    .dataframe tbody tr th:only-of-type {\n",
       "        vertical-align: middle;\n",
       "    }\n",
       "\n",
       "    .dataframe tbody tr th {\n",
       "        vertical-align: top;\n",
       "    }\n",
       "\n",
       "    .dataframe thead th {\n",
       "        text-align: right;\n",
       "    }\n",
       "</style>\n",
       "<table border=\"1\" class=\"dataframe\">\n",
       "  <thead>\n",
       "    <tr style=\"text-align: right;\">\n",
       "      <th>target_type</th>\n",
       "      <th>Adrenal_gland</th>\n",
       "      <th>Bile-duct</th>\n",
       "      <th>Breast</th>\n",
       "      <th>Colon</th>\n",
       "      <th>Esophagus</th>\n",
       "    </tr>\n",
       "    <tr>\n",
       "      <th>source_type</th>\n",
       "      <th></th>\n",
       "      <th></th>\n",
       "      <th></th>\n",
       "      <th></th>\n",
       "      <th></th>\n",
       "    </tr>\n",
       "  </thead>\n",
       "  <tbody>\n",
       "    <tr>\n",
       "      <th>Adrenal_gland</th>\n",
       "      <td>0.975781</td>\n",
       "      <td>0.970176</td>\n",
       "      <td>0.953206</td>\n",
       "      <td>0.944140</td>\n",
       "      <td>0.959045</td>\n",
       "    </tr>\n",
       "    <tr>\n",
       "      <th>Bile-duct</th>\n",
       "      <td>0.974200</td>\n",
       "      <td>0.971785</td>\n",
       "      <td>0.952998</td>\n",
       "      <td>0.942867</td>\n",
       "      <td>0.959940</td>\n",
       "    </tr>\n",
       "    <tr>\n",
       "      <th>Breast</th>\n",
       "      <td>0.973522</td>\n",
       "      <td>0.969827</td>\n",
       "      <td>0.957857</td>\n",
       "      <td>0.946156</td>\n",
       "      <td>0.959767</td>\n",
       "    </tr>\n",
       "    <tr>\n",
       "      <th>Colon</th>\n",
       "      <td>0.971806</td>\n",
       "      <td>0.969518</td>\n",
       "      <td>0.954024</td>\n",
       "      <td>0.951965</td>\n",
       "      <td>0.957458</td>\n",
       "    </tr>\n",
       "    <tr>\n",
       "      <th>Esophagus</th>\n",
       "      <td>0.974043</td>\n",
       "      <td>0.969925</td>\n",
       "      <td>0.952683</td>\n",
       "      <td>0.942557</td>\n",
       "      <td>0.962185</td>\n",
       "    </tr>\n",
       "  </tbody>\n",
       "</table>\n",
       "</div>"
      ],
      "text/plain": [
       "target_type    Adrenal_gland  Bile-duct    Breast     Colon  Esophagus\n",
       "source_type                                                           \n",
       "Adrenal_gland       0.975781   0.970176  0.953206  0.944140   0.959045\n",
       "Bile-duct           0.974200   0.971785  0.952998  0.942867   0.959940\n",
       "Breast              0.973522   0.969827  0.957857  0.946156   0.959767\n",
       "Colon               0.971806   0.969518  0.954024  0.951965   0.957458\n",
       "Esophagus           0.974043   0.969925  0.952683  0.942557   0.962185"
      ]
     },
     "execution_count": 21,
     "metadata": {},
     "output_type": "execute_result"
    }
   ],
   "source": [
    "metrics.pivot_table(index='source_type', columns='target_type', values='acc')"
   ]
  },
  {
   "cell_type": "code",
   "execution_count": 22,
   "metadata": {},
   "outputs": [
    {
     "data": {
      "text/html": [
       "<div>\n",
       "<style scoped>\n",
       "    .dataframe tbody tr th:only-of-type {\n",
       "        vertical-align: middle;\n",
       "    }\n",
       "\n",
       "    .dataframe tbody tr th {\n",
       "        vertical-align: top;\n",
       "    }\n",
       "\n",
       "    .dataframe thead th {\n",
       "        text-align: right;\n",
       "    }\n",
       "</style>\n",
       "<table border=\"1\" class=\"dataframe\">\n",
       "  <thead>\n",
       "    <tr style=\"text-align: right;\">\n",
       "      <th>target_type</th>\n",
       "      <th>Adrenal_gland</th>\n",
       "      <th>Bile-duct</th>\n",
       "      <th>Breast</th>\n",
       "      <th>Colon</th>\n",
       "      <th>Esophagus</th>\n",
       "    </tr>\n",
       "    <tr>\n",
       "      <th>source_type</th>\n",
       "      <th></th>\n",
       "      <th></th>\n",
       "      <th></th>\n",
       "      <th></th>\n",
       "      <th></th>\n",
       "    </tr>\n",
       "  </thead>\n",
       "  <tbody>\n",
       "    <tr>\n",
       "      <th>Adrenal_gland</th>\n",
       "      <td>0.901478</td>\n",
       "      <td>0.889520</td>\n",
       "      <td>0.864667</td>\n",
       "      <td>0.834428</td>\n",
       "      <td>0.891240</td>\n",
       "    </tr>\n",
       "    <tr>\n",
       "      <th>Bile-duct</th>\n",
       "      <td>0.895150</td>\n",
       "      <td>0.896330</td>\n",
       "      <td>0.863819</td>\n",
       "      <td>0.833163</td>\n",
       "      <td>0.893341</td>\n",
       "    </tr>\n",
       "    <tr>\n",
       "      <th>Breast</th>\n",
       "      <td>0.892318</td>\n",
       "      <td>0.888322</td>\n",
       "      <td>0.877305</td>\n",
       "      <td>0.840373</td>\n",
       "      <td>0.891873</td>\n",
       "    </tr>\n",
       "    <tr>\n",
       "      <th>Colon</th>\n",
       "      <td>0.884580</td>\n",
       "      <td>0.887132</td>\n",
       "      <td>0.866169</td>\n",
       "      <td>0.856614</td>\n",
       "      <td>0.887477</td>\n",
       "    </tr>\n",
       "    <tr>\n",
       "      <th>Esophagus</th>\n",
       "      <td>0.893824</td>\n",
       "      <td>0.888964</td>\n",
       "      <td>0.861948</td>\n",
       "      <td>0.830506</td>\n",
       "      <td>0.899792</td>\n",
       "    </tr>\n",
       "  </tbody>\n",
       "</table>\n",
       "</div>"
      ],
      "text/plain": [
       "target_type    Adrenal_gland  Bile-duct    Breast     Colon  Esophagus\n",
       "source_type                                                           \n",
       "Adrenal_gland       0.901478   0.889520  0.864667  0.834428   0.891240\n",
       "Bile-duct           0.895150   0.896330  0.863819  0.833163   0.893341\n",
       "Breast              0.892318   0.888322  0.877305  0.840373   0.891873\n",
       "Colon               0.884580   0.887132  0.866169  0.856614   0.887477\n",
       "Esophagus           0.893824   0.888964  0.861948  0.830506   0.899792"
      ]
     },
     "execution_count": 22,
     "metadata": {},
     "output_type": "execute_result"
    }
   ],
   "source": [
    "metrics.pivot_table(index='source_type', columns='target_type', values='dice')"
   ]
  },
  {
   "cell_type": "code",
   "execution_count": 23,
   "metadata": {},
   "outputs": [
    {
     "data": {
      "text/html": [
       "<div>\n",
       "<style scoped>\n",
       "    .dataframe tbody tr th:only-of-type {\n",
       "        vertical-align: middle;\n",
       "    }\n",
       "\n",
       "    .dataframe tbody tr th {\n",
       "        vertical-align: top;\n",
       "    }\n",
       "\n",
       "    .dataframe thead th {\n",
       "        text-align: right;\n",
       "    }\n",
       "</style>\n",
       "<table border=\"1\" class=\"dataframe\">\n",
       "  <thead>\n",
       "    <tr style=\"text-align: right;\">\n",
       "      <th>target_type</th>\n",
       "      <th>Adrenal_gland</th>\n",
       "      <th>Bile-duct</th>\n",
       "      <th>Breast</th>\n",
       "      <th>Colon</th>\n",
       "      <th>Esophagus</th>\n",
       "    </tr>\n",
       "    <tr>\n",
       "      <th>source_type</th>\n",
       "      <th></th>\n",
       "      <th></th>\n",
       "      <th></th>\n",
       "      <th></th>\n",
       "      <th></th>\n",
       "    </tr>\n",
       "  </thead>\n",
       "  <tbody>\n",
       "    <tr>\n",
       "      <th>Adrenal_gland</th>\n",
       "      <td>2.889199</td>\n",
       "      <td>3.414583</td>\n",
       "      <td>3.601528</td>\n",
       "      <td>3.578019</td>\n",
       "      <td>3.091034</td>\n",
       "    </tr>\n",
       "    <tr>\n",
       "      <th>Bile-duct</th>\n",
       "      <td>3.098608</td>\n",
       "      <td>3.292096</td>\n",
       "      <td>3.492840</td>\n",
       "      <td>3.563899</td>\n",
       "      <td>3.076532</td>\n",
       "    </tr>\n",
       "    <tr>\n",
       "      <th>Breast</th>\n",
       "      <td>3.050590</td>\n",
       "      <td>3.442894</td>\n",
       "      <td>3.142640</td>\n",
       "      <td>3.440628</td>\n",
       "      <td>3.110794</td>\n",
       "    </tr>\n",
       "    <tr>\n",
       "      <th>Colon</th>\n",
       "      <td>3.233108</td>\n",
       "      <td>3.519279</td>\n",
       "      <td>3.447159</td>\n",
       "      <td>3.018823</td>\n",
       "      <td>3.171385</td>\n",
       "    </tr>\n",
       "    <tr>\n",
       "      <th>Esophagus</th>\n",
       "      <td>3.117095</td>\n",
       "      <td>3.447486</td>\n",
       "      <td>3.626762</td>\n",
       "      <td>3.613839</td>\n",
       "      <td>2.943885</td>\n",
       "    </tr>\n",
       "  </tbody>\n",
       "</table>\n",
       "</div>"
      ],
      "text/plain": [
       "target_type    Adrenal_gland  Bile-duct    Breast     Colon  Esophagus\n",
       "source_type                                                           \n",
       "Adrenal_gland       2.889199   3.414583  3.601528  3.578019   3.091034\n",
       "Bile-duct           3.098608   3.292096  3.492840  3.563899   3.076532\n",
       "Breast              3.050590   3.442894  3.142640  3.440628   3.110794\n",
       "Colon               3.233108   3.519279  3.447159  3.018823   3.171385\n",
       "Esophagus           3.117095   3.447486  3.626762  3.613839   2.943885"
      ]
     },
     "execution_count": 23,
     "metadata": {},
     "output_type": "execute_result"
    }
   ],
   "source": [
    "metrics.pivot_table(index='source_type', columns='target_type', values='loss')"
   ]
  },
  {
   "cell_type": "code",
   "execution_count": null,
   "metadata": {},
   "outputs": [],
   "source": []
  }
 ],
 "metadata": {
  "interpreter": {
   "hash": "b2391a236306fb79c89482e1c509a0539c8a26ad780f531c643e7edf8c35927a"
  },
  "kernelspec": {
   "display_name": "Python 3.6.12 64-bit ('hovernet': conda)",
   "language": "python",
   "name": "python3"
  },
  "language_info": {
   "codemirror_mode": {
    "name": "ipython",
    "version": 3
   },
   "file_extension": ".py",
   "mimetype": "text/x-python",
   "name": "python",
   "nbconvert_exporter": "python",
   "pygments_lexer": "ipython3",
   "version": "3.6.12"
  },
  "orig_nbformat": 4
 },
 "nbformat": 4,
 "nbformat_minor": 2
}
