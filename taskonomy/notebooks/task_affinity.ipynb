{
 "cells": [
  {
   "cell_type": "markdown",
   "metadata": {},
   "source": []
  },
  {
   "cell_type": "markdown",
   "metadata": {},
   "source": [
    "## Second Order Taskonomy"
   ]
  },
  {
   "cell_type": "code",
   "execution_count": 60,
   "metadata": {},
   "outputs": [],
   "source": [
    "import pandas as pd\n",
    "import numpy as np\n",
    "import pickle\n",
    "bucket_type = 'top5'\n",
    "\n",
    "metrics = pd.DataFrame(columns=['source_type', 'target_type', 'stats'])\n",
    "\n",
    "type_list_path = f'/l/users/shikhar.srivastava/data/pannuke/{bucket_type}/selected_types.csv'\n",
    "type_list = pd.read_csv(type_list_path)['0']\n",
    "\n",
    "for source_type in type_list:\n",
    "    for target_type in type_list:\n",
    "        logs_path = f'/l/users/shikhar.srivastava/workspace/hover_net/logs/test/second_order/{bucket_type}/ckpts/{source_type}-{target_type}/per_image_stat.pkl'\n",
    "        # Read pickle file\n",
    "        with open(logs_path, 'rb') as f:\n",
    "            stats = pickle.load(f)\n",
    "        \n",
    "        metrics = metrics.append({'source_type': source_type, 'target_type': target_type, 'stats': stats}, ignore_index=True)\n"
   ]
  },
  {
   "cell_type": "code",
   "execution_count": 65,
   "metadata": {},
   "outputs": [
    {
     "data": {
      "text/plain": [
       "{'np_acc': 0.9943486020226056,\n",
       " 'np_dic': 0.8931082981653087,\n",
       " 'tp_dic_0': 0.9959467727131777,\n",
       " 'tp_dic_1': 0.0,\n",
       " 'tp_dic_2': 0.0,\n",
       " 'tp_dic_3': 0.8575268817146672,\n",
       " 'tp_dic_4': 0.0,\n",
       " 'tp_dic_5': 0.0,\n",
       " 'hv_mse': 0.009358107086308722}"
      ]
     },
     "execution_count": 65,
     "metadata": {},
     "output_type": "execute_result"
    }
   ],
   "source": [
    "stats[0]"
   ]
  },
  {
   "cell_type": "code",
   "execution_count": 92,
   "metadata": {},
   "outputs": [],
   "source": [
    "\n",
    "def compute_winrate_ij(source_i, source_j, target_type, metrics):\n",
    "    metrics_source_i = metrics[(metrics['source_type'] == source_i) & (metrics['target_type'] == target_type)]['stats'].iloc[0]\n",
    "    metrics_source_j = metrics[(metrics['source_type'] == source_j) & (metrics['target_type'] == target_type)]['stats'].iloc[0]\n",
    "    n_images = len(metrics_source_i)\n",
    "    wins = 0\n",
    "    losses = 0\n",
    "    for img_idx in range(n_images):\n",
    "        acc_i = metrics_source_i[img_idx]['np_acc']\n",
    "        acc_j = metrics_source_j[img_idx]['np_acc']\n",
    "        dice_i = metrics_source_i[img_idx]['np_dic']\n",
    "        dice_j = metrics_source_j[img_idx]['np_dic']\n",
    "        if (acc_i > acc_j) & (dice_i > dice_j):\n",
    "            wins += 1\n",
    "        else:\n",
    "            losses += 1\n",
    "    winrate = wins/n_images\n",
    "    losses = losses/n_images\n",
    "    return winrate #, losses\n",
    "\n"
   ]
  },
  {
   "cell_type": "code",
   "execution_count": 115,
   "metadata": {},
   "outputs": [],
   "source": [
    "def tournament_matrix(type_list, metrics):\n",
    "    W = np.zeros(shape = (len(type_list), len(type_list) - 1, len(type_list) - 1))\n",
    "    labels = []\n",
    "    for t, target_type in enumerate(type_list):\n",
    "        sources = set(type_list)\n",
    "        sources.remove(target_type)\n",
    "\n",
    "        print('target_type: ', target_type)\n",
    "        n_sources = len(sources) # All but the target, can be source types\n",
    "        W_t = np.zeros((n_sources, n_sources))\n",
    "        labels_t = list(sources)\n",
    "\n",
    "        for i, source_i in enumerate(sources):\n",
    "            for j, source_j in enumerate(sources):\n",
    "                #print(source_i, source_j)\n",
    "                W_t[i, j] = compute_winrate_ij(source_i, source_j, target_type, metrics)\n",
    "                #acc_pivot.loc[source_i, target_type] - acc_pivot.loc[source_j, target_type]\n",
    "        W_t = np.clip(W_t, 1e-3, 1 - 1e-3)\n",
    "        W_t_ = W_t.copy()/W_t.copy().T\n",
    "        W[t, :, :] = W_t_\n",
    "        labels.append(labels_t)\n",
    "    return W, labels"
   ]
  },
  {
   "cell_type": "code",
   "execution_count": 116,
   "metadata": {},
   "outputs": [
    {
     "name": "stdout",
     "output_type": "stream",
     "text": [
      "target_type:  Breast\n",
      "target_type:  Colon\n",
      "target_type:  Adrenal_gland\n",
      "target_type:  Esophagus\n",
      "target_type:  Bile-duct\n"
     ]
    }
   ],
   "source": [
    "W, labels = tournament_matrix(type_list, metrics)"
   ]
  },
  {
   "cell_type": "code",
   "execution_count": 128,
   "metadata": {},
   "outputs": [
    {
     "data": {
      "text/plain": [
       "array([[[1.        , 0.87931034, 0.99404762, 0.92352941],\n",
       "        [1.1372549 , 1.        , 1.01818182, 1.20945946],\n",
       "        [1.00598802, 0.98214286, 1.        , 1.14379085],\n",
       "        [1.08280255, 0.82681564, 0.87428571, 1.        ]],\n",
       "\n",
       "       [[1.        , 0.87978142, 0.70813397, 1.02339181],\n",
       "        [1.13664596, 1.        , 0.81443299, 1.19745223],\n",
       "        [1.41216216, 1.2278481 , 1.        , 1.45070423],\n",
       "        [0.97714286, 0.83510638, 0.68932039, 1.        ]],\n",
       "\n",
       "       [[1.        , 0.645     , 0.84745763, 0.72251309],\n",
       "        [1.5503876 , 1.        , 1.49618321, 1.34265734],\n",
       "        [1.18      , 0.66836735, 1.        , 0.88439306],\n",
       "        [1.38405797, 0.74479167, 1.13071895, 1.        ]],\n",
       "\n",
       "       [[1.        , 1.0974026 , 1.01863354, 1.12337662],\n",
       "        [0.9112426 , 1.        , 0.81420765, 1.06493506],\n",
       "        [0.98170732, 1.22818792, 1.        , 1.515625  ],\n",
       "        [0.89017341, 0.93902439, 0.65979381, 1.        ]],\n",
       "\n",
       "       [[1.        , 1.20253165, 1.40277778, 1.27152318],\n",
       "        [0.83157895, 1.        , 1.14906832, 0.95953757],\n",
       "        [0.71287129, 0.87027027, 1.        , 0.87222222],\n",
       "        [0.78645833, 1.04216867, 1.14649682, 1.        ]]])"
      ]
     },
     "execution_count": 128,
     "metadata": {},
     "output_type": "execute_result"
    }
   ],
   "source": [
    "W"
   ]
  },
  {
   "cell_type": "code",
   "execution_count": 127,
   "metadata": {},
   "outputs": [
    {
     "data": {
      "text/plain": [
       "(array([ 4.00320540e+00+0.j        , -1.72544722e-03+0.11326852j,\n",
       "        -1.72544722e-03-0.11326852j,  2.45491380e-04+0.j        ]),\n",
       " array([[ 0.38207979+0.j        ,  0.16157098+0.42589459j,\n",
       "          0.16157098-0.42589459j,  0.0543442 +0.j        ],\n",
       "        [ 0.64022543+0.j        , -0.74317369+0.j        ,\n",
       "         -0.74317369-0.j        ,  0.21433985+0.j        ],\n",
       "        [ 0.44000302+0.j        ,  0.08143593-0.18209174j,\n",
       "          0.08143593+0.18209174j, -0.75428852+0.j        ],\n",
       "        [ 0.50052351+0.j        ,  0.27714835-0.35156943j,\n",
       "          0.27714835+0.35156943j,  0.61818603+0.j        ]]))"
      ]
     },
     "execution_count": 127,
     "metadata": {},
     "output_type": "execute_result"
    }
   ],
   "source": [
    "np.linalg.eig(W[2])"
   ]
  },
  {
   "cell_type": "code",
   "execution_count": null,
   "metadata": {},
   "outputs": [],
   "source": []
  }
 ],
 "metadata": {
  "interpreter": {
   "hash": "b2391a236306fb79c89482e1c509a0539c8a26ad780f531c643e7edf8c35927a"
  },
  "kernelspec": {
   "display_name": "Python 3.6.12 64-bit ('hovernet': conda)",
   "language": "python",
   "name": "python3"
  },
  "language_info": {
   "codemirror_mode": {
    "name": "ipython",
    "version": 3
   },
   "file_extension": ".py",
   "mimetype": "text/x-python",
   "name": "python",
   "nbconvert_exporter": "python",
   "pygments_lexer": "ipython3",
   "version": "3.6.12"
  },
  "orig_nbformat": 4
 },
 "nbformat": 4,
 "nbformat_minor": 2
}
